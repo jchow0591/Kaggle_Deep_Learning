{
 "cells": [
  {
   "cell_type": "code",
   "execution_count": 1,
   "metadata": {
    "collapsed": true
   },
   "outputs": [],
   "source": [
    "import os\n",
    "import pandas as pd\n",
    "\n",
    "import utils"
   ]
  },
  {
   "cell_type": "code",
   "execution_count": 2,
   "metadata": {
    "collapsed": false
   },
   "outputs": [],
   "source": [
    "DATA_DIR = utils.get_data_dir()\n",
    "\n",
    "patients = os.listdir(DATA_DIR + 'sample_images/')\n",
    "labels_df = pd.read_csv(DATA_DIR + 'stage1_labels.csv')\n",
    "\n",
    "labeled_patients = list(set(patients) & set(labels_df[\"id\"]))\n",
    "labels_df = labels_df[labels_df['id'].isin(patients)]"
   ]
  },
  {
   "cell_type": "code",
   "execution_count": 3,
   "metadata": {
    "collapsed": false
   },
   "outputs": [],
   "source": [
    "# # show that this works\n",
    "# from preprocessing import preprocess\n",
    "# path = DATA_DIR + \"sample_images/\" + labeled_patients[0]\n",
    "# image3D = preprocess(path)"
   ]
  },
  {
   "cell_type": "code",
   "execution_count": 4,
   "metadata": {
    "collapsed": false
   },
   "outputs": [],
   "source": [
    "from preprocessing import preprocess\n",
    "from multiprocessing import Pool\n",
    "\n",
    "labeled_patient_patients = \\\n",
    "    map(lambda patient : DATA_DIR + \"sample_images/\" + patient, labeled_patients)\n",
    "\n",
    "# preprocess all of the patients\n",
    "p = Pool(utils.get_cpu_cores())\n",
    "sample_images3D = p.map(preprocess, labeled_patient_patients)"
   ]
  },
  {
   "cell_type": "code",
   "execution_count": 10,
   "metadata": {
    "collapsed": false
   },
   "outputs": [
    {
     "name": "stdout",
     "output_type": "stream",
     "text": [
      "(366, 370, 370)\n",
      "(308, 355, 355)\n",
      "(350, 340, 340)\n",
      "(332, 340, 340)\n",
      "(320, 347, 347)\n",
      "(328, 360, 360)\n",
      "(304, 424, 424)\n",
      "(282, 308, 308)\n",
      "(275, 320, 320)\n",
      "(354, 259, 259)\n",
      "(305, 390, 390)\n",
      "(360, 350, 350)\n",
      "(398, 309, 309)\n",
      "(272, 330, 330)\n",
      "(335, 306, 306)\n",
      "(365, 279, 279)\n",
      "(315, 310, 310)\n",
      "(294, 300, 300)\n",
      "(342, 392, 392)\n"
     ]
    }
   ],
   "source": [
    "# image3D = sample_images3D[0]\n",
    "# image3D.shape\n",
    "for image3D in sample_images3D:\n",
    "    print image3D.shape"
   ]
  }
 ],
 "metadata": {
  "kernelspec": {
   "display_name": "Python 2",
   "language": "python",
   "name": "python2"
  },
  "language_info": {
   "codemirror_mode": {
    "name": "ipython",
    "version": 2
   },
   "file_extension": ".py",
   "mimetype": "text/x-python",
   "name": "python",
   "nbconvert_exporter": "python",
   "pygments_lexer": "ipython2",
   "version": "2.7.12"
  }
 },
 "nbformat": 4,
 "nbformat_minor": 1
}
